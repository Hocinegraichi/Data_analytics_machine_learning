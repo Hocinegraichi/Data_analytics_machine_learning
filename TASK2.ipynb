{
 "cells": [
  {
   "cell_type": "code",
   "execution_count": 148,
   "id": "0b947576",
   "metadata": {},
   "outputs": [],
   "source": [
    "import pandas as pd\n",
    "import numpy as np\n",
    "import matplotlib.pyplot as plt"
   ]
  },
  {
   "cell_type": "markdown",
   "id": "35bef395",
   "metadata": {},
   "source": [
    "# \n",
    "# Winsorization\n",
    "# "
   ]
  },
  {
   "cell_type": "code",
   "execution_count": 160,
   "id": "8379b47f",
   "metadata": {},
   "outputs": [
    {
     "data": {
      "image/png": "[encoded data removed]",
      "text/plain": [
       "<Figure size 432x288 with 1 Axes>"
      ]
     },
     "metadata": {
      "needs_background": "light"
     },
     "output_type": "display_data"
    }
   ],
   "source": [
    "df = pd.read_csv('weight-height.csv' , sep=',') # importing the csv file into a dataframe\n",
    "\n",
    "df=df.sort_values('Height', ascending=True) # Sorting data in an ascending order\n",
    "\n",
    "def plot(column):\n",
    "    plt.boxplot(column)\n",
    "    plt.title('Height')\n",
    "    plt.show()\n",
    "\n",
    "plot(df.Height)\n"
   ]
  },
  {
   "cell_type": "markdown",
   "id": "8f4cc3dc",
   "metadata": {},
   "source": [
    "### Removing"
   ]
  },
  {
   "cell_type": "code",
   "execution_count": 161,
   "id": "9cfed1c7",
   "metadata": {},
   "outputs": [
    {
     "name": "stdout",
     "output_type": "stream",
     "text": [
      "[58.95993804]\n"
     ]
    },
    {
     "data": {
      "text/html": [
       "<div>\n",
       "<style scoped>\n",
       "    .dataframe tbody tr th:only-of-type {\n",
       "        vertical-align: middle;\n",
       "    }\n",
       "\n",
       "    .dataframe tbody tr th {\n",
       "        vertical-align: top;\n",
       "    }\n",
       "\n",
       "    .dataframe thead th {\n",
       "        text-align: right;\n",
       "    }\n",
       "</style>\n",
       "<table border=\"1\" class=\"dataframe\">\n",
       "  <thead>\n",
       "    <tr style=\"text-align: right;\">\n",
       "      <th></th>\n",
       "      <th>Gender</th>\n",
       "      <th>Height</th>\n",
       "      <th>Weight</th>\n",
       "    </tr>\n",
       "  </thead>\n",
       "  <tbody>\n",
       "    <tr>\n",
       "      <th>8048</th>\n",
       "      <td>Female</td>\n",
       "      <td>58.960040</td>\n",
       "      <td>95.752318</td>\n",
       "    </tr>\n",
       "    <tr>\n",
       "      <th>8004</th>\n",
       "      <td>Female</td>\n",
       "      <td>58.963526</td>\n",
       "      <td>110.815421</td>\n",
       "    </tr>\n",
       "    <tr>\n",
       "      <th>6246</th>\n",
       "      <td>Female</td>\n",
       "      <td>58.964069</td>\n",
       "      <td>91.785550</td>\n",
       "    </tr>\n",
       "    <tr>\n",
       "      <th>7610</th>\n",
       "      <td>Female</td>\n",
       "      <td>58.972124</td>\n",
       "      <td>112.975630</td>\n",
       "    </tr>\n",
       "    <tr>\n",
       "      <th>6014</th>\n",
       "      <td>Female</td>\n",
       "      <td>58.980574</td>\n",
       "      <td>105.971760</td>\n",
       "    </tr>\n",
       "    <tr>\n",
       "      <th>...</th>\n",
       "      <td>...</td>\n",
       "      <td>...</td>\n",
       "      <td>...</td>\n",
       "    </tr>\n",
       "    <tr>\n",
       "      <th>994</th>\n",
       "      <td>Male</td>\n",
       "      <td>78.095867</td>\n",
       "      <td>255.690835</td>\n",
       "    </tr>\n",
       "    <tr>\n",
       "      <th>1317</th>\n",
       "      <td>Male</td>\n",
       "      <td>78.462053</td>\n",
       "      <td>227.342565</td>\n",
       "    </tr>\n",
       "    <tr>\n",
       "      <th>3285</th>\n",
       "      <td>Male</td>\n",
       "      <td>78.528210</td>\n",
       "      <td>253.889004</td>\n",
       "    </tr>\n",
       "    <tr>\n",
       "      <th>3757</th>\n",
       "      <td>Male</td>\n",
       "      <td>78.621374</td>\n",
       "      <td>245.733783</td>\n",
       "    </tr>\n",
       "    <tr>\n",
       "      <th>2014</th>\n",
       "      <td>Male</td>\n",
       "      <td>78.998742</td>\n",
       "      <td>269.989699</td>\n",
       "    </tr>\n",
       "  </tbody>\n",
       "</table>\n",
       "<p>9800 rows × 3 columns</p>\n",
       "</div>"
      ],
      "text/plain": [
       "      Gender     Height      Weight\n",
       "8048  Female  58.960040   95.752318\n",
       "8004  Female  58.963526  110.815421\n",
       "6246  Female  58.964069   91.785550\n",
       "7610  Female  58.972124  112.975630\n",
       "6014  Female  58.980574  105.971760\n",
       "...      ...        ...         ...\n",
       "994     Male  78.095867  255.690835\n",
       "1317    Male  78.462053  227.342565\n",
       "3285    Male  78.528210  253.889004\n",
       "3757    Male  78.621374  245.733783\n",
       "2014    Male  78.998742  269.989699\n",
       "\n",
       "[9800 rows x 3 columns]"
      ]
     },
     "execution_count": 161,
     "metadata": {},
     "output_type": "execute_result"
    }
   ],
   "source": [
    "low = np.quantile(df.Height,[0.02]) # Lower limit   (returns an array)                            \n",
    "print(low) \n",
    "x =low[0] # getting the lower limit from the array\n",
    "df1 = df.drop(df[df.Height < x].index) # Remove data below the value and assign its value \n",
    "                                            # to a new dataframe to keep the original\n",
    "df1"
   ]
  },
  {
   "cell_type": "code",
   "execution_count": 177,
   "id": "ad5898cd",
   "metadata": {},
   "outputs": [
    {
     "name": "stdout",
     "output_type": "stream",
     "text": [
      "[73.98591719]\n"
     ]
    },
    {
     "data": {
      "image/png": "[encoded data removed]",
      "text/plain": [
       "<Figure size 432x288 with 1 Axes>"
      ]
     },
     "metadata": {
      "needs_background": "light"
     },
     "output_type": "display_data"
    }
   ],
   "source": [
    "High = np.quantile(df.Height,[0.98]) # Using the original Dataframe to extract the Higher limit (returns an array)\n",
    "print(High) \n",
    "y = High[0]\n",
    "df1 = df1.drop(df1[df1.Height > y].index)# Apply the condition on the new dataframe\n",
    "plot(df1.Height)  # We can notice the outliers disappeared after plotting the new data\n"
   ]
  },
  {
   "cell_type": "markdown",
   "id": "44d5363b",
   "metadata": {},
   "source": [
    "### Clamping"
   ]
  },
  {
   "cell_type": "code",
   "execution_count": 163,
   "id": "c22df6f5",
   "metadata": {},
   "outputs": [
    {
     "data": {
      "image/png": "[encoded data removed]",
      "text/plain": [
       "<Figure size 432x288 with 1 Axes>"
      ]
     },
     "metadata": {
      "needs_background": "light"
     },
     "output_type": "display_data"
    }
   ],
   "source": [
    "df2=pd.DataFrame() # New dataframe\n",
    "\n",
    "\n",
    "df2['Height']=df['Height'] # append a column from the original data frame \n",
    "plot(df2.Height)\n",
    "\n",
    "\n"
   ]
  },
  {
   "cell_type": "code",
   "execution_count": 175,
   "id": "92492135",
   "metadata": {},
   "outputs": [
    {
     "data": {
      "image/png": "[encoded data removed]",
      "text/plain": [
       "<Figure size 432x288 with 1 Axes>"
      ]
     },
     "metadata": {
      "needs_background": "light"
     },
     "output_type": "display_data"
    }
   ],
   "source": [
    "df2.loc[df['Height']> y, 'Height'] = y #All values in df2.Height that are higher than the upper limit will be equal to \n",
    "                                       # Upper limit\n",
    "df2.loc[df['Height']< x, 'Height'] = x #All values in df2.Height that are Lower than the lower limit will be equal to \n",
    "                                       # Lower limit\n",
    "\n",
    "plot(df2.Height) # Same Results on the plotbox\n",
    "plt.show()"
   ]
  }
 ],
 "metadata": {
  "kernelspec": {
   "display_name": "Python 3 (ipykernel)",
   "language": "python",
   "name": "python3"
  },
  "language_info": {
   "codemirror_mode": {
    "name": "ipython",
    "version": 3
   },
   "file_extension": ".py",
   "mimetype": "text/x-python",
   "name": "python",
   "nbconvert_exporter": "python",
   "pygments_lexer": "ipython3",
   "version": "3.9.1"
  }
 },
 "nbformat": 4,
 "nbformat_minor": 5
}
