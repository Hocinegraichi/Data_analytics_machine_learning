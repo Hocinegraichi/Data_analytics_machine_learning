{
 "cells": [
  {
   "cell_type": "code",
   "execution_count": 21,
   "id": "0c24fca6",
   "metadata": {
    "scrolled": true
   },
   "outputs": [],
   "source": [
    "import pandas as pd\n"
   ]
  },
  {
   "cell_type": "code",
   "execution_count": 22,
   "id": "b1d33e68",
   "metadata": {},
   "outputs": [],
   "source": [
    "#Reading the csv file into a dataframe using Pandas library\n",
    "\n",
    "\n",
    "data=pd.read_csv(r\"C:\\Users\\hocin\\Downloads\\Jupyter\\weight-height.csv\")"
   ]
  },
  {
   "cell_type": "code",
   "execution_count": 23,
   "id": "dfa7b274",
   "metadata": {},
   "outputs": [],
   "source": [
    "#Assigning values to Heights and Weights\n",
    "heights=data.iloc[:,1]\n",
    "weights=data.iloc[:,2]\n"
   ]
  },
  {
   "cell_type": "code",
   "execution_count": 24,
   "id": "e2a4b1ed",
   "metadata": {},
   "outputs": [],
   "source": [
    "#Converting Heights and Weights into Centimeter and Pound Using Operations \n",
    "\n",
    "heights=heights * 2.54\n",
    "weights= weights * 0.453592\n",
    "\n"
   ]
  },
  {
   "cell_type": "code",
   "execution_count": 25,
   "id": "1c2d99f7",
   "metadata": {},
   "outputs": [
    {
     "data": {
      "text/html": [
       "<div>\n",
       "<style scoped>\n",
       "    .dataframe tbody tr th:only-of-type {\n",
       "        vertical-align: middle;\n",
       "    }\n",
       "\n",
       "    .dataframe tbody tr th {\n",
       "        vertical-align: top;\n",
       "    }\n",
       "\n",
       "    .dataframe thead th {\n",
       "        text-align: right;\n",
       "    }\n",
       "</style>\n",
       "<table border=\"1\" class=\"dataframe\">\n",
       "  <thead>\n",
       "    <tr style=\"text-align: right;\">\n",
       "      <th></th>\n",
       "      <th>Gender</th>\n",
       "      <th>Height</th>\n",
       "      <th>Weight</th>\n",
       "      <th>Height_(CM)</th>\n",
       "      <th>Weight_(KG)</th>\n",
       "    </tr>\n",
       "  </thead>\n",
       "  <tbody>\n",
       "    <tr>\n",
       "      <th>0</th>\n",
       "      <td>Male</td>\n",
       "      <td>73.847017</td>\n",
       "      <td>241.893563</td>\n",
       "      <td>187.571423</td>\n",
       "      <td>109.720985</td>\n",
       "    </tr>\n",
       "    <tr>\n",
       "      <th>1</th>\n",
       "      <td>Male</td>\n",
       "      <td>68.781904</td>\n",
       "      <td>162.310473</td>\n",
       "      <td>174.706036</td>\n",
       "      <td>73.622732</td>\n",
       "    </tr>\n",
       "    <tr>\n",
       "      <th>2</th>\n",
       "      <td>Male</td>\n",
       "      <td>74.110105</td>\n",
       "      <td>212.740856</td>\n",
       "      <td>188.239668</td>\n",
       "      <td>96.497550</td>\n",
       "    </tr>\n",
       "    <tr>\n",
       "      <th>3</th>\n",
       "      <td>Male</td>\n",
       "      <td>71.730978</td>\n",
       "      <td>220.042470</td>\n",
       "      <td>182.196685</td>\n",
       "      <td>99.809504</td>\n",
       "    </tr>\n",
       "    <tr>\n",
       "      <th>4</th>\n",
       "      <td>Male</td>\n",
       "      <td>69.881796</td>\n",
       "      <td>206.349801</td>\n",
       "      <td>177.499761</td>\n",
       "      <td>93.598619</td>\n",
       "    </tr>\n",
       "    <tr>\n",
       "      <th>...</th>\n",
       "      <td>...</td>\n",
       "      <td>...</td>\n",
       "      <td>...</td>\n",
       "      <td>...</td>\n",
       "      <td>...</td>\n",
       "    </tr>\n",
       "    <tr>\n",
       "      <th>9995</th>\n",
       "      <td>Female</td>\n",
       "      <td>66.172652</td>\n",
       "      <td>136.777454</td>\n",
       "      <td>168.078536</td>\n",
       "      <td>62.041159</td>\n",
       "    </tr>\n",
       "    <tr>\n",
       "      <th>9996</th>\n",
       "      <td>Female</td>\n",
       "      <td>67.067155</td>\n",
       "      <td>170.867906</td>\n",
       "      <td>170.350573</td>\n",
       "      <td>77.504315</td>\n",
       "    </tr>\n",
       "    <tr>\n",
       "      <th>9997</th>\n",
       "      <td>Female</td>\n",
       "      <td>63.867992</td>\n",
       "      <td>128.475319</td>\n",
       "      <td>162.224700</td>\n",
       "      <td>58.275377</td>\n",
       "    </tr>\n",
       "    <tr>\n",
       "      <th>9998</th>\n",
       "      <td>Female</td>\n",
       "      <td>69.034243</td>\n",
       "      <td>163.852461</td>\n",
       "      <td>175.346978</td>\n",
       "      <td>74.322166</td>\n",
       "    </tr>\n",
       "    <tr>\n",
       "      <th>9999</th>\n",
       "      <td>Female</td>\n",
       "      <td>61.944246</td>\n",
       "      <td>113.649103</td>\n",
       "      <td>157.338385</td>\n",
       "      <td>51.550324</td>\n",
       "    </tr>\n",
       "  </tbody>\n",
       "</table>\n",
       "<p>10000 rows × 5 columns</p>\n",
       "</div>"
      ],
      "text/plain": [
       "      Gender     Height      Weight  Height_(CM)  Weight_(KG)\n",
       "0       Male  73.847017  241.893563   187.571423   109.720985\n",
       "1       Male  68.781904  162.310473   174.706036    73.622732\n",
       "2       Male  74.110105  212.740856   188.239668    96.497550\n",
       "3       Male  71.730978  220.042470   182.196685    99.809504\n",
       "4       Male  69.881796  206.349801   177.499761    93.598619\n",
       "...      ...        ...         ...          ...          ...\n",
       "9995  Female  66.172652  136.777454   168.078536    62.041159\n",
       "9996  Female  67.067155  170.867906   170.350573    77.504315\n",
       "9997  Female  63.867992  128.475319   162.224700    58.275377\n",
       "9998  Female  69.034243  163.852461   175.346978    74.322166\n",
       "9999  Female  61.944246  113.649103   157.338385    51.550324\n",
       "\n",
       "[10000 rows x 5 columns]"
      ]
     },
     "execution_count": 25,
     "metadata": {},
     "output_type": "execute_result"
    }
   ],
   "source": [
    "data['Height_(CM)']=heights.values # After the conversion, appended a new Heights column with values in Centimeter\n",
    "data['Weight_(KG)']=weights.values # Appended a new Weights column with values in Pound\n",
    "\n",
    "data"
   ]
  },
  {
   "cell_type": "code",
   "execution_count": 26,
   "id": "b083d7ed",
   "metadata": {},
   "outputs": [
    {
     "name": "stdout",
     "output_type": "stream",
     "text": [
      "Height Standard Deviation =  9.772721426764\n",
      "Height average =  168.57360177724595\n",
      "Height median =  168.44789800773304\n",
      "Height variance =  95.50608408513222\n"
     ]
    }
   ],
   "source": [
    "# Printing information about the data\n",
    "\n",
    "print(\"Height Standard Deviation = \",data['Height_(CM)'].std())\n",
    "print(\"Height average = \",data['Height_(CM)'].mean())\n",
    "print(\"Height median = \",data['Height_(CM)'].median())\n",
    "print(\"Height variance = \",data['Height_(CM)'].var())\n",
    "\n"
   ]
  },
  {
   "cell_type": "code",
   "execution_count": 27,
   "id": "25b07345",
   "metadata": {},
   "outputs": [
    {
     "name": "stdout",
     "output_type": "stream",
     "text": [
      "Inromation about Heights\n"
     ]
    },
    {
     "data": {
      "text/plain": [
       "count    10000.000000\n",
       "mean       168.573602\n",
       "std          9.772721\n",
       "min        137.828359\n",
       "25%        161.304276\n",
       "50%        168.447898\n",
       "75%        175.702625\n",
       "max        200.656806\n",
       "Name: Height_(CM), dtype: float64"
      ]
     },
     "execution_count": 27,
     "metadata": {},
     "output_type": "execute_result"
    }
   ],
   "source": [
    "# We could Also use ´describe() function:\n",
    "print(\"Inromation about Heights\")\n",
    "data['Height_(CM)'].describe()"
   ]
  },
  {
   "cell_type": "code",
   "execution_count": 28,
   "id": "cc31260e",
   "metadata": {},
   "outputs": [
    {
     "name": "stdout",
     "output_type": "stream",
     "text": [
      "Weight Standard Deviation =  14.564131065845238\n",
      "Weight average =  73.22805433651739\n",
      "Weight median =  73.1248943010639\n",
      "Weight variance =  212.11391370311836\n"
     ]
    }
   ],
   "source": [
    "print(\"Weight Standard Deviation = \",data['Weight_(KG)'].std())\n",
    "print(\"Weight average = \",data['Weight_(KG)'].mean())\n",
    "print(\"Weight median = \",data['Weight_(KG)'].median())\n",
    "print(\"Weight variance = \",data['Weight_(KG)'].var())"
   ]
  },
  {
   "cell_type": "code",
   "execution_count": 29,
   "id": "55b00e45",
   "metadata": {},
   "outputs": [
    {
     "name": "stdout",
     "output_type": "stream",
     "text": [
      "Inromation about Heights\n"
     ]
    },
    {
     "data": {
      "text/plain": [
       "count    10000.000000\n",
       "mean        73.228054\n",
       "std         14.564131\n",
       "min         29.347460\n",
       "25%         61.605982\n",
       "50%         73.124894\n",
       "75%         84.898599\n",
       "max        122.465167\n",
       "Name: Weight_(KG), dtype: float64"
      ]
     },
     "execution_count": 29,
     "metadata": {},
     "output_type": "execute_result"
    }
   ],
   "source": [
    "#Same for Weights, We could Also use ´describe() function:\n",
    "print(\"Inromation about Heights\")\n",
    "data['Weight_(KG)'].describe()"
   ]
  },
  {
   "cell_type": "code",
   "execution_count": 30,
   "id": "1326c44a",
   "metadata": {},
   "outputs": [
    {
     "name": "stdout",
     "output_type": "stream",
     "text": [
      "Height Average\n"
     ]
    },
    {
     "data": {
      "text/plain": [
       "Gender\n",
       "Female    161.820285\n",
       "Male      175.326919\n",
       "Name: Height_(CM), dtype: float64"
      ]
     },
     "execution_count": 30,
     "metadata": {},
     "output_type": "execute_result"
    }
   ],
   "source": [
    "print(\"Height Average\")\n",
    "data.groupby('Gender')['Height_(CM)'].mean() # I used groupby() to group all the data by gender and height average "
   ]
  },
  {
   "cell_type": "code",
   "execution_count": 32,
   "id": "2988346d",
   "metadata": {},
   "outputs": [
    {
     "name": "stdout",
     "output_type": "stream",
     "text": [
      "Weight Average\n"
     ]
    },
    {
     "data": {
      "text/plain": [
       "Gender\n",
       "Female    61.625051\n",
       "Male      84.831057\n",
       "Name: Weight_(KG), dtype: float64"
      ]
     },
     "execution_count": 32,
     "metadata": {},
     "output_type": "execute_result"
    }
   ],
   "source": [
    "print(\"Weight Average\")\n",
    "data.groupby('Gender')['Weight_(KG)'].mean() # I used groupby() to group all the data by gender and height average"
   ]
  },
  {
   "cell_type": "code",
   "execution_count": null,
   "id": "3b7d233f",
   "metadata": {},
   "outputs": [],
   "source": []
  }
 ],
 "metadata": {
  "kernelspec": {
   "display_name": "Python 3 (ipykernel)",
   "language": "python",
   "name": "python3"
  },
  "language_info": {
   "codemirror_mode": {
    "name": "ipython",
    "version": 3
   },
   "file_extension": ".py",
   "mimetype": "text/x-python",
   "name": "python",
   "nbconvert_exporter": "python",
   "pygments_lexer": "ipython3",
   "version": "3.9.1"
  }
 },
 "nbformat": 4,
 "nbformat_minor": 5
}
